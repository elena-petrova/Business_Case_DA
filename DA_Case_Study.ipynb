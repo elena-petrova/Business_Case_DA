{
 "cells": [
  {
   "cell_type": "markdown",
   "metadata": {},
   "source": [
    "## Business case\n",
    "### Data Analysis of Customer demographics"
   ]
  },
  {
   "cell_type": "markdown",
   "metadata": {},
   "source": [
    "<div class=\"alert alert-block alert-info\"> This notebook is a part of a freelance project. Sensitive variables were masked. </div>\n",
    "\n",
    "#### Problem Statement\n",
    "\n",
    "A retail company wants to understand the customer purchase behaviour which will help them to create more customer-focused offers.\n",
    "\n",
    "\n",
    "#### Data description\n",
    "\n",
    "Dataset contains purchase summary of customers for high volume products (for a certain period). It also contains customer demographics like age, gender, marital status, type of a city, quantity of years stayed in the city, product details and a total purchase amount.\n",
    "\n",
    "| VarName | Description |\n",
    "| --- | --- |\n",
    "| User_ID| User ID |\n",
    "| Product_ID | Product ID |\n",
    "| Gender | Sex of User |\n",
    "| Age | Age in bins |\n",
    "| Occupation | Occupation (Masked) |\n",
    "| City_Category | Category of the City (A, B, C) |\n",
    "| Stay_In_Current_City_Years | Number of years stay in current city |\n",
    "| Marital_Status | Marital Status (1 - married, 0 - single) |\n",
    "| Product_Category_1 | Product Category (Masked) |\n",
    "| Product_Category_2 | Product may belongs to other category also (Masked) |\n",
    "| Product_Category_3 | Product may belongs to other category also (Masked) |\n",
    "| Purchase | Purchase Amount (Target Variable) |           "
   ]
  },
  {
   "cell_type": "markdown",
   "metadata": {},
   "source": [
    "### Customer demographics: elaboration of the customer portait\n",
    "\n",
    "Loading packages and data. Notice that I have an initially splitted data: train and test sets."
   ]
  },
  {
   "cell_type": "code",
   "execution_count": null,
   "metadata": {
    "collapsed": true
   },
   "outputs": [],
   "source": [
    "# data wrangling\n",
    "require(plyr)\n",
    "require(dplyr)\n",
    "require(tidyr)\n",
    "\n",
    "# data visualization\n",
    "require(ggplot2)\n",
    "require(RColorBrewer)\n",
    "\n",
    "# loading data\n",
    "train <- read.csv(\"~/Documents/projects/blackfriday/train.csv\",\n",
    "                  colClasses = c(\"integer\", rep(\"character\", 2), rep(\"factor\", 4), rep(\"integer\", 4)))\n",
    "test <- read.csv(\"~/Documents/projects/blackfriday/test.csv\",\n",
    "                  colClasses = c(\"integer\", rep(\"character\", 2), rep(\"factor\", 4), rep(\"integer\", 3)))"
   ]
  },
  {
   "cell_type": "markdown",
   "metadata": {},
   "source": [
    "\n",
    "Let's take a quick look:"
   ]
  },
  {
   "cell_type": "code",
   "execution_count": 2,
   "metadata": {
    "collapsed": false
   },
   "outputs": [
    {
     "name": "stdout",
     "output_type": "stream",
     "text": [
      "Observations: 783,667\n",
      "Variables: 11\n",
      "$ User_ID                    <int> 1000001, 1000001, 1000001, 1000001, 1000...\n",
      "$ Product_ID                 <chr> \"P00069042\", \"P00248942\", \"P00087842\", \"...\n",
      "$ Gender                     <chr> \"F\", \"F\", \"F\", \"F\", \"M\", \"M\", \"M\", \"M\", ...\n",
      "$ Age                        <fctr> 0-17, 0-17, 0-17, 0-17, 55+, 26-35, 46-...\n",
      "$ Occupation                 <fctr> 10, 10, 10, 10, 16, 15, 7, 7, 7, 20, 20...\n",
      "$ City_Category              <fctr> A, A, A, A, C, A, B, B, B, A, A, A, A, ...\n",
      "$ Stay_In_Current_City_Years <fctr> 2, 2, 2, 2, 4+, 3, 2, 2, 2, 1, 1, 1, 1,...\n",
      "$ Marital_Status             <int> 0, 0, 0, 0, 0, 0, 1, 1, 1, 1, 1, 1, 1, 1...\n",
      "$ Product_Category_1         <int> 3, 1, 12, 12, 8, 1, 1, 1, 1, 8, 5, 8, 8,...\n",
      "$ Product_Category_2         <int> NA, 6, NA, 14, NA, 2, 8, 15, 16, NA, 11,...\n",
      "$ Product_Category_3         <int> NA, 14, NA, NA, NA, NA, 17, NA, NA, NA, ...\n"
     ]
    }
   ],
   "source": [
    "# glancing at data (without purchase amount)\n",
    "train[,1:11] %>% \n",
    "    rbind(test) %>%\n",
    "    glimpse()"
   ]
  },
  {
   "cell_type": "code",
   "execution_count": 3,
   "metadata": {
    "collapsed": false
   },
   "outputs": [
    {
     "name": "stdout",
     "output_type": "stream",
     "text": [
      "\n",
      "Number of NA's for the second additional category is equal to 173638\n",
      "And number of NA's for the third additional category is equal to 383247"
     ]
    }
   ],
   "source": [
    "# no. of NA's in additional product categories\n",
    "cat(\"\n",
    "Number of NA's for the second additional category is equal to\", sum(is.na(train$Product_Category_2)))\n",
    "cat(\"\n",
    "And number of NA's for the third additional category is equal to\", sum(is.na(train$Product_Category_3)))"
   ]
  },
  {
   "cell_type": "markdown",
   "metadata": {},
   "source": [
    "Overall dataset contains around 790k observations. Note that I intentionally transformed categorical variables such as age bins and gender into factors while leaving as character strings others for further transformation.\n",
    "\n",
    "We have quite a bit of missing values in additional categories. However the presence of NA's is logical because not every product relate to several categories at the same time.\n",
    "\n",
    "Let's now start data exploring. The best way to do this is to create informative yet simple visualizations."
   ]
  },
  {
   "cell_type": "code",
   "execution_count": 4,
   "metadata": {
    "collapsed": false
   },
   "outputs": [],
   "source": [
    "# unite two splitted sets together for a bigger picture\n",
    "full <- rbind(train[, 1:11], test)\n",
    "# assign levels to Marital Status\n",
    "levels(full$Marital_Status) <- c(\"single\", \"married\")"
   ]
  },
  {
   "cell_type": "markdown",
   "metadata": {},
   "source": [
    "Facet grid is one of the best types of visual data presentation outhere as it gives a concise view of a variable distribution against others."
   ]
  },
  {
   "cell_type": "code",
   "execution_count": 5,
   "metadata": {
    "collapsed": false
   },
   "outputs": [
    {
     "data": {},
     "metadata": {},
     "output_type": "display_data"
    },
    {
     "data": {
      "image/png": "[encoded data removed]",
      "text/plain": [
       "plot without title"
      ]
     },
     "metadata": {},
     "output_type": "display_data"
    }
   ],
   "source": [
    "# plot size \n",
    "options(repr.plot.width = 8, repr.plot.height = 4)\n",
    "\n",
    "# setting themes\n",
    "custom_theme <- theme(plot.title = element_text(hjust = 0.5),\n",
    "                      legend.position = \"right\")\n",
    "\n",
    "no_ticks_axis <- theme(axis.text = element_blank(),\n",
    "                       axis.ticks = element_blank())\n",
    "\n",
    "gender_palette <- c(\"#49A997\", \"#6749A9\")\n",
    "\n",
    "age_city <- ggplot(full, aes(x = Gender))\n",
    "age_city + geom_bar(aes(fill = Gender), position = \"dodge\") +\n",
    "    labs(title = \"By age groups and number of years spent in a city\", \n",
    "         x = NULL, y = NULL) +\n",
    "    facet_grid(City_Category ~ Age) + \n",
    "    theme_minimal() + custom_theme +\n",
    "    no_ticks_axis + \n",
    "    scale_fill_manual(values = gender_palette)"
   ]
  },
  {
   "cell_type": "markdown",
   "metadata": {},
   "source": [
    "From the plots above we can now draw a portrait of the most popular customer: it's a man aged between 26-35 years old from B city category. We can also see that customers above 45 have less interest in products than younger generation.\n",
    "\n",
    "This observation can be explained by the sector of retailor's activity: sport. Sports equipment is usually at the peak of sales in the same age group shown above (from 26 to 35 years) and under the decreasing trend among customers under 25 (possibly because these goods are often too expensive) and elderly.\n",
    "\n",
    "City category B seems to gain more orders than the rest. However there is a good dynamic in city category C: demographics are not the dispersed comparing to other groups which indicates healthier relations with a product."
   ]
  },
  {
   "cell_type": "code",
   "execution_count": 6,
   "metadata": {
    "collapsed": false,
    "scrolled": true
   },
   "outputs": [
    {
     "data": {
      "text/html": [
       "<table>\n",
       "<thead><tr><th scope=col>Marital_Status</th><th scope=col>n_cust</th><th scope=col>prop</th></tr></thead>\n",
       "<tbody>\n",
       "\t<tr><td>0     </td><td>462538</td><td>59.02 </td></tr>\n",
       "\t<tr><td>1     </td><td>321129</td><td>40.98 </td></tr>\n",
       "</tbody>\n",
       "</table>\n"
      ],
      "text/latex": [
       "\\begin{tabular}{r|lll}\n",
       " Marital\\_Status & n\\_cust & prop\\\\\n",
       "\\hline\n",
       "\t 0      & 462538 & 59.02 \\\\\n",
       "\t 1      & 321129 & 40.98 \\\\\n",
       "\\end{tabular}\n"
      ],
      "text/markdown": [
       "\n",
       "Marital_Status | n_cust | prop | \n",
       "|---|---|\n",
       "| 0      | 462538 | 59.02  | \n",
       "| 1      | 321129 | 40.98  | \n",
       "\n",
       "\n"
      ],
      "text/plain": [
       "  Marital_Status n_cust prop \n",
       "1 0              462538 59.02\n",
       "2 1              321129 40.98"
      ]
     },
     "metadata": {},
     "output_type": "display_data"
    },
    {
     "data": {
      "text/html": [
       "<table>\n",
       "<thead><tr><th scope=col>Occupation</th><th scope=col>n_cust</th><th scope=col>prop</th></tr></thead>\n",
       "<tbody>\n",
       "\t<tr><td>4     </td><td>103086</td><td>13.15 </td></tr>\n",
       "\t<tr><td>0     </td><td> 98850</td><td>12.61 </td></tr>\n",
       "\t<tr><td>7     </td><td> 84127</td><td>10.74 </td></tr>\n",
       "\t<tr><td>1     </td><td> 67687</td><td> 8.64 </td></tr>\n",
       "\t<tr><td>17    </td><td> 57418</td><td> 7.33 </td></tr>\n",
       "</tbody>\n",
       "</table>\n"
      ],
      "text/latex": [
       "\\begin{tabular}{r|lll}\n",
       " Occupation & n\\_cust & prop\\\\\n",
       "\\hline\n",
       "\t 4      & 103086 & 13.15 \\\\\n",
       "\t 0      &  98850 & 12.61 \\\\\n",
       "\t 7      &  84127 & 10.74 \\\\\n",
       "\t 1      &  67687 &  8.64 \\\\\n",
       "\t 17     &  57418 &  7.33 \\\\\n",
       "\\end{tabular}\n"
      ],
      "text/markdown": [
       "\n",
       "Occupation | n_cust | prop | \n",
       "|---|---|---|---|---|\n",
       "| 4      | 103086 | 13.15  | \n",
       "| 0      |  98850 | 12.61  | \n",
       "| 7      |  84127 | 10.74  | \n",
       "| 1      |  67687 |  8.64  | \n",
       "| 17     |  57418 |  7.33  | \n",
       "\n",
       "\n"
      ],
      "text/plain": [
       "  Occupation n_cust prop \n",
       "1 4          103086 13.15\n",
       "2 0           98850 12.61\n",
       "3 7           84127 10.74\n",
       "4 1           67687  8.64\n",
       "5 17          57418  7.33"
      ]
     },
     "metadata": {},
     "output_type": "display_data"
    }
   ],
   "source": [
    "# single/married customers\n",
    "full %>%\n",
    "    group_by(Marital_Status) %>%\n",
    "    summarize(n_cust = n()) %>%\n",
    "    mutate(prop = round(n_cust / sum(n_cust) * 100, 2))\n",
    "\n",
    "# top 5 occupations\n",
    "full %>%\n",
    "    group_by(Occupation) %>%\n",
    "    summarize(n_cust = n()) %>%\n",
    "    mutate(prop = round(n_cust / sum(n_cust) * 100, 2)) %>%\n",
    "    arrange(desc(prop)) %>%\n",
    "    head(5) "
   ]
  },
  {
   "cell_type": "markdown",
   "metadata": {},
   "source": [
    "As we can see single customers are in majority and that top 5 occupations represent a good half the whole number of purchases made at that period. Which is close to Pareto-rule where 20% of customers make 80% of orders."
   ]
  },
  {
   "cell_type": "markdown",
   "metadata": {},
   "source": [
    "### Conclusion\n",
    "\n",
    " - Customer portrait: __a man between 26-35 from B city category.__\n",
    " - __Female customers follow the same trend__ as male: peak of sales between age 25-26. \n",
    " - Customers with __ocuppation types 4, 0, 7, 1 and 17 represent the majority of retailer's clients__ (more than a half of a total number of customers).\n",
    " - There is a __potential for growth in C city category__. Market research and revising marketing and advertising campaigns could spread the light on missing opportunities."
   ]
  }
 ],
 "metadata": {
  "kernelspec": {
   "display_name": "R",
   "language": "R",
   "name": "ir"
  },
  "language_info": {
   "codemirror_mode": "r",
   "file_extension": ".r",
   "mimetype": "text/x-r-source",
   "name": "R",
   "pygments_lexer": "r",
   "version": "3.3.2"
  }
 },
 "nbformat": 4,
 "nbformat_minor": 2
}
